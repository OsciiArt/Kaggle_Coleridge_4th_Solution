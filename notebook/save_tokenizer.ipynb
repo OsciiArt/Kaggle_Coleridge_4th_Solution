{
 "cells": [
  {
   "cell_type": "code",
   "execution_count": 1,
   "id": "democratic-button",
   "metadata": {},
   "outputs": [],
   "source": [
    "import numpy as np\n",
    "import pandas as pd\n",
    "import matplotlib.pyplot as plt\n",
    "import os, glob, pickle, time, gc, copy, sys\n",
    "import warnings\n",
    "from tqdm import tqdm\n",
    "\n",
    "tqdm.pandas()\n",
    "warnings.filterwarnings('ignore')\n",
    "pd.set_option('display.max_columns', 100) # 表示できる列数\n",
    "\n",
    "sys.path.append('../src')\n",
    "from utils import ri, pickle_load, pickle_save\n",
    "import nltk\n",
    "from transformers import RobertaTokenizer, RobertaModel"
   ]
  },
  {
   "cell_type": "code",
   "execution_count": 2,
   "id": "radical-orange",
   "metadata": {},
   "outputs": [],
   "source": [
    "# config\n",
    "params = {}\n",
    "### params directory\n",
    "params['INPUT_DIR'] = \"../input/orig\"\n",
    "params['OUTPUT_DIR'] = \"../output\""
   ]
  },
  {
   "cell_type": "code",
   "execution_count": 3,
   "id": "champion-knock",
   "metadata": {},
   "outputs": [],
   "source": [
    "# load roberta of huggingface\n",
    "tokenizer = RobertaTokenizer.from_pretrained('roberta-base')"
   ]
  },
  {
   "cell_type": "code",
   "execution_count": 5,
   "id": "explicit-blogger",
   "metadata": {},
   "outputs": [],
   "source": [
    "pickle_save(params['OUTPUT_DIR']+\"/tokenizer_210613_01.pkl\", tokenizer)"
   ]
  }
 ],
 "metadata": {
  "environment": {
   "name": "pytorch-gpu.1-7.m65",
   "type": "gcloud",
   "uri": "gcr.io/deeplearning-platform-release/pytorch-gpu.1-7:m65"
  },
  "kernelspec": {
   "display_name": "Python 3",
   "language": "python",
   "name": "python3"
  },
  "language_info": {
   "codemirror_mode": {
    "name": "ipython",
    "version": 3
   },
   "file_extension": ".py",
   "mimetype": "text/x-python",
   "name": "python",
   "nbconvert_exporter": "python",
   "pygments_lexer": "ipython3",
   "version": "3.7.10"
  }
 },
 "nbformat": 4,
 "nbformat_minor": 5
}
